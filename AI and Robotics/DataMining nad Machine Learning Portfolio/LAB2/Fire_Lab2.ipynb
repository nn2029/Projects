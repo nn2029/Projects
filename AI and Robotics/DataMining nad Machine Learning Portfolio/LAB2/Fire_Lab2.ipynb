{
 "cells": [
  {
   "cell_type": "markdown",
   "metadata": {
    "id": "1Yp2x5NphRrR"
   },
   "source": [
    "# Tutorial 1 (FIRE) Data Exploration and Visualization (Getting to know our data) - Group 3"
   ]
  },
  {
   "cell_type": "markdown",
   "metadata": {
    "id": "3G2agedJhRrS"
   },
   "source": [
    "## Setup"
   ]
  },
  {
   "cell_type": "code",
   "execution_count": 1,
   "metadata": {
    "id": "UJMHBNTNhRrS"
   },
   "outputs": [],
   "source": [
    "import sys\n",
    "assert sys.version_info >= (3, 5)\n",
    "# Python ≥3.5 is required\n"
   ]
  },
  {
   "cell_type": "code",
   "execution_count": 2,
   "metadata": {
    "id": "rEM0Cu7xhRrU"
   },
   "outputs": [],
   "source": [
    "# Scikit-Learn ≥0.20 is required\n",
    "import sklearn\n",
    "assert sklearn.__version__ >= \"0.20\""
   ]
  },
  {
   "cell_type": "code",
   "execution_count": 3,
   "metadata": {
    "id": "kBhrMzIvhRrV"
   },
   "outputs": [],
   "source": [
    "# Common imports\n",
    "import numpy as np\n",
    "import os\n",
    "import tarfile\n",
    "import urllib\n",
    "import pandas as pd\n",
    "import urllib.request\n"
   ]
  },
  {
   "cell_type": "code",
   "execution_count": 4,
   "metadata": {
    "id": "F0MqHkqGhRrW"
   },
   "outputs": [],
   "source": [
    "# To plot pretty figures\n",
    "%matplotlib inline\n",
    "import matplotlib as mpl\n",
    "import matplotlib.pyplot as plt"
   ]
  },
  {
   "cell_type": "markdown",
   "metadata": {
    "id": "e1PFyyJfhRrX"
   },
   "source": [
    "# Get the data"
   ]
  },
  {
   "cell_type": "markdown",
   "metadata": {
    "id": "lVD91J2YhRrX"
   },
   "source": [
    "With this code, we download the dataset stored in our github package \"DMLL-F21DL\""
   ]
  },
  {
   "cell_type": "code",
   "execution_count": null,
   "metadata": {},
   "outputs": [],
   "source": []
  },
  {
   "cell_type": "code",
   "execution_count": 5,
   "metadata": {
    "id": "6QXOXllRhRrY"
   },
   "outputs": [],
   "source": [
    "FIRE_PATH = os.path.join(\"datasets\", \"fire\")\n",
    "FIRE_URL = \"https://raw.githubusercontent.com/Gowresh-HW/DMLL-F21DL/main/Dataset/fire_archive.csv\"\n",
    "STORAGE_PATH = \"/home/marc/notebook/datasets/fire/fire_archive.csv\"\n",
    "def fetch_fire_data(fire_url=FIRE_URL, fire_path=FIRE_PATH, storage_path=STORAGE_PATH):\n",
    "    os.makedirs(fire_path, exist_ok=True)\n",
    "    urllib.request.urlretrieve(fire_url,storage_path)"
   ]
  },
  {
   "cell_type": "code",
   "execution_count": 6,
   "metadata": {
    "id": "p-eiPmPjhRrZ"
   },
   "outputs": [],
   "source": [
    "#fetch_fire_data()\n",
    "# calling the function fetch_fire_data, (defined above) creates a datasets/fire directory in our workspace, \n",
    "# downloads fire_archive.csv file to this directory "
   ]
  },
  {
   "cell_type": "markdown",
   "metadata": {
    "id": "Ca8AlsCahRrZ"
   },
   "source": [
    "`load_fire_data` function loads the `fire_archive.csv` into a panda `dataframe`"
   ]
  },
  {
   "cell_type": "code",
   "execution_count": 7,
   "metadata": {
    "id": "5b3O1VHkhRra"
   },
   "outputs": [],
   "source": [
    "def load_fire_data(fire_path=FIRE_PATH):\n",
    "    csv_path = os.path.join(fire_path, \"fire_archive.csv\")\n",
    "    return pd.read_csv(csv_path)"
   ]
  },
  {
   "cell_type": "code",
   "execution_count": 8,
   "metadata": {
    "colab": {
     "base_uri": "https://localhost:8080/",
     "height": 224
    },
    "id": "s00DKz0mhRrb",
    "outputId": "dbe5e655-81fa-45da-83d8-97ead371e1e2"
   },
   "outputs": [
    {
     "data": {
      "text/html": [
       "<div>\n",
       "<style scoped>\n",
       "    .dataframe tbody tr th:only-of-type {\n",
       "        vertical-align: middle;\n",
       "    }\n",
       "\n",
       "    .dataframe tbody tr th {\n",
       "        vertical-align: top;\n",
       "    }\n",
       "\n",
       "    .dataframe thead th {\n",
       "        text-align: right;\n",
       "    }\n",
       "</style>\n",
       "<table border=\"1\" class=\"dataframe\">\n",
       "  <thead>\n",
       "    <tr style=\"text-align: right;\">\n",
       "      <th></th>\n",
       "      <th>latitude</th>\n",
       "      <th>longitude</th>\n",
       "      <th>brightness</th>\n",
       "      <th>scan</th>\n",
       "      <th>track</th>\n",
       "      <th>acq_date</th>\n",
       "      <th>acq_time</th>\n",
       "      <th>satellite</th>\n",
       "      <th>instrument</th>\n",
       "      <th>confidence</th>\n",
       "      <th>version</th>\n",
       "      <th>bright_t31</th>\n",
       "      <th>frp</th>\n",
       "      <th>daynight</th>\n",
       "      <th>type</th>\n",
       "    </tr>\n",
       "  </thead>\n",
       "  <tbody>\n",
       "    <tr>\n",
       "      <th>0</th>\n",
       "      <td>-11.8070</td>\n",
       "      <td>142.0583</td>\n",
       "      <td>313.0</td>\n",
       "      <td>1.0</td>\n",
       "      <td>1.0</td>\n",
       "      <td>2019-08-01</td>\n",
       "      <td>NaN</td>\n",
       "      <td>Terra</td>\n",
       "      <td>MODIS</td>\n",
       "      <td>48</td>\n",
       "      <td>6.3</td>\n",
       "      <td>297.3</td>\n",
       "      <td>6.6</td>\n",
       "      <td>D</td>\n",
       "      <td>0</td>\n",
       "    </tr>\n",
       "    <tr>\n",
       "      <th>1</th>\n",
       "      <td>-11.7924</td>\n",
       "      <td>142.0850</td>\n",
       "      <td>319.3</td>\n",
       "      <td>1.0</td>\n",
       "      <td>1.0</td>\n",
       "      <td>2019-08-01</td>\n",
       "      <td>NaN</td>\n",
       "      <td>Terra</td>\n",
       "      <td>MODIS</td>\n",
       "      <td>71</td>\n",
       "      <td>6.3</td>\n",
       "      <td>297.3</td>\n",
       "      <td>11.3</td>\n",
       "      <td>D</td>\n",
       "      <td>0</td>\n",
       "    </tr>\n",
       "    <tr>\n",
       "      <th>2</th>\n",
       "      <td>-12.8398</td>\n",
       "      <td>132.8744</td>\n",
       "      <td>311.6</td>\n",
       "      <td>3.1</td>\n",
       "      <td>1.7</td>\n",
       "      <td>2019-08-01</td>\n",
       "      <td>NaN</td>\n",
       "      <td>Terra</td>\n",
       "      <td>MODIS</td>\n",
       "      <td>42</td>\n",
       "      <td>6.3</td>\n",
       "      <td>298.7</td>\n",
       "      <td>23.1</td>\n",
       "      <td>D</td>\n",
       "      <td>0</td>\n",
       "    </tr>\n",
       "    <tr>\n",
       "      <th>3</th>\n",
       "      <td>-14.4306</td>\n",
       "      <td>143.3035</td>\n",
       "      <td>310.1</td>\n",
       "      <td>1.1</td>\n",
       "      <td>1.1</td>\n",
       "      <td>2019-08-01</td>\n",
       "      <td>NaN</td>\n",
       "      <td>Terra</td>\n",
       "      <td>MODIS</td>\n",
       "      <td>33</td>\n",
       "      <td>6.3</td>\n",
       "      <td>296.1</td>\n",
       "      <td>6.5</td>\n",
       "      <td>D</td>\n",
       "      <td>0</td>\n",
       "    </tr>\n",
       "    <tr>\n",
       "      <th>4</th>\n",
       "      <td>-12.4953</td>\n",
       "      <td>131.4897</td>\n",
       "      <td>310.3</td>\n",
       "      <td>4.0</td>\n",
       "      <td>1.9</td>\n",
       "      <td>2019-08-01</td>\n",
       "      <td>NaN</td>\n",
       "      <td>Terra</td>\n",
       "      <td>MODIS</td>\n",
       "      <td>36</td>\n",
       "      <td>6.3</td>\n",
       "      <td>298.8</td>\n",
       "      <td>27.6</td>\n",
       "      <td>D</td>\n",
       "      <td>0</td>\n",
       "    </tr>\n",
       "  </tbody>\n",
       "</table>\n",
       "</div>"
      ],
      "text/plain": [
       "   latitude  longitude  brightness  scan  track    acq_date  acq_time  \\\n",
       "0  -11.8070   142.0583       313.0   1.0    1.0  2019-08-01       NaN   \n",
       "1  -11.7924   142.0850       319.3   1.0    1.0  2019-08-01       NaN   \n",
       "2  -12.8398   132.8744       311.6   3.1    1.7  2019-08-01       NaN   \n",
       "3  -14.4306   143.3035       310.1   1.1    1.1  2019-08-01       NaN   \n",
       "4  -12.4953   131.4897       310.3   4.0    1.9  2019-08-01       NaN   \n",
       "\n",
       "  satellite instrument  confidence  version  bright_t31   frp daynight  type  \n",
       "0     Terra      MODIS          48      6.3       297.3   6.6        D     0  \n",
       "1     Terra      MODIS          71      6.3       297.3  11.3        D     0  \n",
       "2     Terra      MODIS          42      6.3       298.7  23.1        D     0  \n",
       "3     Terra      MODIS          33      6.3       296.1   6.5        D     0  \n",
       "4     Terra      MODIS          36      6.3       298.8  27.6        D     0  "
      ]
     },
     "execution_count": 8,
     "metadata": {},
     "output_type": "execute_result"
    }
   ],
   "source": [
    "fire = load_fire_data() # \"fire\" now becomes a pandas DataFrame object containing all the data\n",
    "fire.head() # Display the top five rows of the DataFrame\n",
    "#Q1 How many attribuites in the data set? Desribe the attribuites .\n",
    "#A1: There are totally 15 attributes in the dataset. The latitude and longitude attributes refer to the \n",
    "#    geographic location of the hotspots detected by the satellites. The brightness attribute is the pixel\n",
    "#    measurement of the temperature in Kelvin. Scan and Track attributes refers to the pixel measurement of \n",
    "#    the scanned area. acq_date refers to the date of acquisition of data while acq_time refers to the time spent\n",
    "#    during the acquisition of data. Satellite attribute refers to which satellite was used for acquiring the data \n",
    "#    while instrument refers to the instrument used by the satellites for measurmeent. Confidence refers to the\n",
    "#    quality of the hostpot in the specified region of interest. This parameter can be used to predict whether an \n",
    "#    hostspot is a fired area or not. This will be our target feature (Values greater than 60% or 70% ususally\n",
    "#    mean the hotspot is actually a firespot). Version attribute refers to the collection of source. bright_t31 \n",
    "#    is the pixel measurement of temperature in the 3-1 Channel. frp attribute depicts the pixel-integrated \n",
    "#    fire radiative power in MW (Mega Watts). Daynight attribute refers to when the instance were obtained, whether\n",
    "#    day or night. Finally the type attribute refers to the type of environment of the instance."
   ]
  },
  {
   "cell_type": "code",
   "execution_count": 9,
   "metadata": {
    "colab": {
     "base_uri": "https://localhost:8080/"
    },
    "id": "6jx67hw8hRrd",
    "outputId": "b7367d26-67ea-430f-82de-02c2c75f76bc"
   },
   "outputs": [
    {
     "name": "stdout",
     "output_type": "stream",
     "text": [
      "<class 'pandas.core.frame.DataFrame'>\n",
      "RangeIndex: 36011 entries, 0 to 36010\n",
      "Data columns (total 15 columns):\n",
      " #   Column      Non-Null Count  Dtype  \n",
      "---  ------      --------------  -----  \n",
      " 0   latitude    36011 non-null  float64\n",
      " 1   longitude   36011 non-null  float64\n",
      " 2   brightness  36011 non-null  float64\n",
      " 3   scan        36011 non-null  float64\n",
      " 4   track       36011 non-null  float64\n",
      " 5   acq_date    36011 non-null  object \n",
      " 6   acq_time    36006 non-null  float64\n",
      " 7   satellite   36011 non-null  object \n",
      " 8   instrument  36011 non-null  object \n",
      " 9   confidence  36011 non-null  int64  \n",
      " 10  version     36011 non-null  float64\n",
      " 11  bright_t31  36011 non-null  float64\n",
      " 12  frp         36011 non-null  float64\n",
      " 13  daynight    36011 non-null  object \n",
      " 14  type        36011 non-null  int64  \n",
      "dtypes: float64(9), int64(2), object(4)\n",
      "memory usage: 4.1+ MB\n"
     ]
    }
   ],
   "source": [
    "#This method prints information about a DataFrame including the dtype and columns, non-null values and memory usage.\n",
    "fire.info() \n",
    "#Q2 Can you tell if there are any missing values? If yes, which attribuites contain missing values ? \n",
    "#A2: There are no missing values in the dataset, fortunately. This will probably help us in accurately predicting \n",
    "#     the target feature."
   ]
  },
  {
   "cell_type": "markdown",
   "metadata": {
    "id": "co0dQ38ShRrf"
   },
   "source": [
    "All attributes are numerical, except the acq_date, satellite, instrument and daynight. We need to explore the \n",
    "possibility of changing the data type of acq_date as it cannot be considered as a categorical data."
   ]
  },
  {
   "cell_type": "code",
   "execution_count": 10,
   "metadata": {
    "colab": {
     "base_uri": "https://localhost:8080/"
    },
    "id": "3pcwbiQOhRrg",
    "outputId": "8aef3a04-32fd-417e-bdbb-20406db142ef"
   },
   "outputs": [
    {
     "name": "stdout",
     "output_type": "stream",
     "text": [
      "D    28203\n",
      "N     7808\n",
      "Name: daynight, dtype: int64\n",
      "MODIS    36011\n",
      "Name: instrument, dtype: int64\n",
      "Aqua     20541\n",
      "Terra    15470\n",
      "Name: satellite, dtype: int64\n"
     ]
    }
   ],
   "source": [
    "print(fire[\"daynight\"].value_counts())\n",
    "print(fire[\"instrument\"].value_counts())\n",
    "print(fire[\"satellite\"].value_counts())\n",
    "# Q3 What does the value_count() method display?\n",
    "# A3: The value_count() displays the number of values in each category of an attribute across the dataset. Here\n",
    "#     there are 28,203 values indicating that the respective measurements were taken during daytime while 7,808 \n",
    "#     values indicating that those measurements were taken during night time. The satelliete dataset has two \n",
    "#     categories indicating the model of satellite that was used for measurmenet. It is observed that the \n",
    "#     instrument attribute has only one category  across the entire dataset, which clearly indicates that the \n",
    "#     attribute can dropped from the dataset when processing. "
   ]
  },
  {
   "cell_type": "code",
   "execution_count": 11,
   "metadata": {
    "colab": {
     "base_uri": "https://localhost:8080/",
     "height": 317
    },
    "id": "UCE1jukBhRrg",
    "outputId": "09d3e84c-557a-47ac-dbbc-8add01ed3c31"
   },
   "outputs": [
    {
     "data": {
      "text/html": [
       "<div>\n",
       "<style scoped>\n",
       "    .dataframe tbody tr th:only-of-type {\n",
       "        vertical-align: middle;\n",
       "    }\n",
       "\n",
       "    .dataframe tbody tr th {\n",
       "        vertical-align: top;\n",
       "    }\n",
       "\n",
       "    .dataframe thead th {\n",
       "        text-align: right;\n",
       "    }\n",
       "</style>\n",
       "<table border=\"1\" class=\"dataframe\">\n",
       "  <thead>\n",
       "    <tr style=\"text-align: right;\">\n",
       "      <th></th>\n",
       "      <th>latitude</th>\n",
       "      <th>longitude</th>\n",
       "      <th>brightness</th>\n",
       "      <th>scan</th>\n",
       "      <th>track</th>\n",
       "      <th>acq_time</th>\n",
       "      <th>confidence</th>\n",
       "      <th>version</th>\n",
       "      <th>bright_t31</th>\n",
       "      <th>frp</th>\n",
       "      <th>type</th>\n",
       "    </tr>\n",
       "  </thead>\n",
       "  <tbody>\n",
       "    <tr>\n",
       "      <th>count</th>\n",
       "      <td>36011.000000</td>\n",
       "      <td>36011.000000</td>\n",
       "      <td>36011.000000</td>\n",
       "      <td>36011.000000</td>\n",
       "      <td>36011.000000</td>\n",
       "      <td>36006.000000</td>\n",
       "      <td>36011.000000</td>\n",
       "      <td>3.601100e+04</td>\n",
       "      <td>36011.000000</td>\n",
       "      <td>36011.000000</td>\n",
       "      <td>36011.000000</td>\n",
       "    </tr>\n",
       "    <tr>\n",
       "      <th>mean</th>\n",
       "      <td>-19.100962</td>\n",
       "      <td>138.931446</td>\n",
       "      <td>328.750696</td>\n",
       "      <td>1.620905</td>\n",
       "      <td>1.215281</td>\n",
       "      <td>600.101261</td>\n",
       "      <td>67.551387</td>\n",
       "      <td>6.300000e+00</td>\n",
       "      <td>301.339138</td>\n",
       "      <td>51.132176</td>\n",
       "      <td>0.019439</td>\n",
       "    </tr>\n",
       "    <tr>\n",
       "      <th>std</th>\n",
       "      <td>7.265777</td>\n",
       "      <td>9.261400</td>\n",
       "      <td>18.992808</td>\n",
       "      <td>0.813764</td>\n",
       "      <td>0.247852</td>\n",
       "      <td>548.369789</td>\n",
       "      <td>23.179946</td>\n",
       "      <td>1.776382e-15</td>\n",
       "      <td>9.724462</td>\n",
       "      <td>92.280112</td>\n",
       "      <td>0.198326</td>\n",
       "    </tr>\n",
       "    <tr>\n",
       "      <th>min</th>\n",
       "      <td>-42.762800</td>\n",
       "      <td>114.104300</td>\n",
       "      <td>300.000000</td>\n",
       "      <td>1.000000</td>\n",
       "      <td>1.000000</td>\n",
       "      <td>0.000000</td>\n",
       "      <td>0.000000</td>\n",
       "      <td>6.300000e+00</td>\n",
       "      <td>267.000000</td>\n",
       "      <td>0.000000</td>\n",
       "      <td>0.000000</td>\n",
       "    </tr>\n",
       "    <tr>\n",
       "      <th>25%</th>\n",
       "      <td>-26.370250</td>\n",
       "      <td>131.072250</td>\n",
       "      <td>316.500000</td>\n",
       "      <td>1.100000</td>\n",
       "      <td>1.000000</td>\n",
       "      <td>205.000000</td>\n",
       "      <td>52.000000</td>\n",
       "      <td>6.300000e+00</td>\n",
       "      <td>293.600000</td>\n",
       "      <td>13.800000</td>\n",
       "      <td>0.000000</td>\n",
       "    </tr>\n",
       "    <tr>\n",
       "      <th>50%</th>\n",
       "      <td>-15.706500</td>\n",
       "      <td>136.738500</td>\n",
       "      <td>326.400000</td>\n",
       "      <td>1.300000</td>\n",
       "      <td>1.100000</td>\n",
       "      <td>424.000000</td>\n",
       "      <td>70.000000</td>\n",
       "      <td>6.300000e+00</td>\n",
       "      <td>302.400000</td>\n",
       "      <td>25.800000</td>\n",
       "      <td>0.000000</td>\n",
       "    </tr>\n",
       "    <tr>\n",
       "      <th>75%</th>\n",
       "      <td>-13.343600</td>\n",
       "      <td>147.477500</td>\n",
       "      <td>336.700000</td>\n",
       "      <td>1.900000</td>\n",
       "      <td>1.300000</td>\n",
       "      <td>600.000000</td>\n",
       "      <td>86.000000</td>\n",
       "      <td>6.300000e+00</td>\n",
       "      <td>308.600000</td>\n",
       "      <td>52.800000</td>\n",
       "      <td>0.000000</td>\n",
       "    </tr>\n",
       "    <tr>\n",
       "      <th>max</th>\n",
       "      <td>-10.072600</td>\n",
       "      <td>153.490400</td>\n",
       "      <td>504.400000</td>\n",
       "      <td>4.800000</td>\n",
       "      <td>2.000000</td>\n",
       "      <td>2359.000000</td>\n",
       "      <td>100.000000</td>\n",
       "      <td>6.300000e+00</td>\n",
       "      <td>400.100000</td>\n",
       "      <td>3679.500000</td>\n",
       "      <td>3.000000</td>\n",
       "    </tr>\n",
       "  </tbody>\n",
       "</table>\n",
       "</div>"
      ],
      "text/plain": [
       "           latitude     longitude    brightness          scan         track  \\\n",
       "count  36011.000000  36011.000000  36011.000000  36011.000000  36011.000000   \n",
       "mean     -19.100962    138.931446    328.750696      1.620905      1.215281   \n",
       "std        7.265777      9.261400     18.992808      0.813764      0.247852   \n",
       "min      -42.762800    114.104300    300.000000      1.000000      1.000000   \n",
       "25%      -26.370250    131.072250    316.500000      1.100000      1.000000   \n",
       "50%      -15.706500    136.738500    326.400000      1.300000      1.100000   \n",
       "75%      -13.343600    147.477500    336.700000      1.900000      1.300000   \n",
       "max      -10.072600    153.490400    504.400000      4.800000      2.000000   \n",
       "\n",
       "           acq_time    confidence       version    bright_t31           frp  \\\n",
       "count  36006.000000  36011.000000  3.601100e+04  36011.000000  36011.000000   \n",
       "mean     600.101261     67.551387  6.300000e+00    301.339138     51.132176   \n",
       "std      548.369789     23.179946  1.776382e-15      9.724462     92.280112   \n",
       "min        0.000000      0.000000  6.300000e+00    267.000000      0.000000   \n",
       "25%      205.000000     52.000000  6.300000e+00    293.600000     13.800000   \n",
       "50%      424.000000     70.000000  6.300000e+00    302.400000     25.800000   \n",
       "75%      600.000000     86.000000  6.300000e+00    308.600000     52.800000   \n",
       "max     2359.000000    100.000000  6.300000e+00    400.100000   3679.500000   \n",
       "\n",
       "               type  \n",
       "count  36011.000000  \n",
       "mean       0.019439  \n",
       "std        0.198326  \n",
       "min        0.000000  \n",
       "25%        0.000000  \n",
       "50%        0.000000  \n",
       "75%        0.000000  \n",
       "max        3.000000  "
      ]
     },
     "execution_count": 11,
     "metadata": {},
     "output_type": "execute_result"
    }
   ],
   "source": [
    "#This method shows a statistical summary of the numerical attributes \n",
    "fire.describe() "
   ]
  },
  {
   "cell_type": "markdown",
   "metadata": {
    "id": "DTWv5nPvhRrh"
   },
   "source": [
    "The 25%, 50%, and 75% rows show the corresponding percentiles: a percentile indicates the value below which a given percentage of observations in a group of observations fall."
   ]
  },
  {
   "cell_type": "code",
   "execution_count": 12,
   "metadata": {
    "colab": {
     "base_uri": "https://localhost:8080/",
     "height": 838
    },
    "id": "zL4M1klihRri",
    "outputId": "daab2804-eae7-421b-c2f3-4cc1fb38c6d0"
   },
   "outputs": [
    {
     "data": {
      "image/png": "[encoded data removed]",
      "text/plain": [
       "<Figure size 1440x1080 with 12 Axes>"
      ]
     },
     "metadata": {
      "needs_background": "light"
     },
     "output_type": "display_data"
    }
   ],
   "source": [
    "#To plot a histogram for each numerical attribute\n",
    "fire.hist(bins=50, figsize=(20,15))\n",
    "plt.show()\n",
    "# Q4 List down the main observations you noted from the statistical summary and the histogram\n",
    "# A4: The statistical summary and the histograms do not consider the categorical data or more precisely they do not\n",
    "#     consider the object type of data. While the acq_date is not a categorical data, we have to consider the \n",
    "#     activity of changing the data type.\n"
   ]
  },
  {
   "cell_type": "markdown",
   "metadata": {
    "id": "vGnSGS0whRrj"
   },
   "source": [
    "# Visualizing Geographical Data"
   ]
  },
  {
   "cell_type": "code",
   "execution_count": 13,
   "metadata": {
    "colab": {
     "base_uri": "https://localhost:8080/",
     "height": 296
    },
    "id": "Bkv5ZfAthRrj",
    "outputId": "80857803-d161-47e2-d92d-4e267f516cc6"
   },
   "outputs": [
    {
     "data": {
      "text/plain": [
       "<AxesSubplot:xlabel='longitude', ylabel='latitude'>"
      ]
     },
     "execution_count": 13,
     "metadata": {},
     "output_type": "execute_result"
    },
    {
     "data": {
      "image/png": "[encoded data removed]",
      "text/plain": [
       "<Figure size 432x288 with 1 Axes>"
      ]
     },
     "metadata": {
      "needs_background": "light"
     },
     "output_type": "display_data"
    }
   ],
   "source": [
    "# Q5 Now you will plot 3 different variations of the data, which one is more indicative and why?\n",
    "# A5: The first plot does not help us in finding any particular pattern. The second plot is comparitively better\n",
    "#     in representing the density of areas where the measurement were taken. The third plot is more indicative\n",
    "#     as we can understand the different confidence levels of hotspot across the areas.\n",
    "fire.plot(kind=\"scatter\", x=\"longitude\", y=\"latitude\")\n"
   ]
  },
  {
   "cell_type": "code",
   "execution_count": 14,
   "metadata": {
    "colab": {
     "base_uri": "https://localhost:8080/",
     "height": 296
    },
    "id": "DMXDywM6hRrk",
    "outputId": "e7e83c79-0847-4cff-982c-0d6ea76fa996"
   },
   "outputs": [
    {
     "data": {
      "text/plain": [
       "<AxesSubplot:xlabel='longitude', ylabel='latitude'>"
      ]
     },
     "execution_count": 14,
     "metadata": {},
     "output_type": "execute_result"
    },
    {
     "data": {
      "image/png": "[encoded data removed]",
      "text/plain": [
       "<Figure size 432x288 with 1 Axes>"
      ]
     },
     "metadata": {
      "needs_background": "light"
     },
     "output_type": "display_data"
    }
   ],
   "source": [
    "fire.plot(kind=\"scatter\", x=\"longitude\", y=\"latitude\", alpha=0.1)"
   ]
  },
  {
   "cell_type": "markdown",
   "metadata": {},
   "source": [
    "The above plot helps us  to better understand the density of the areas where the measurements were taken "
   ]
  },
  {
   "cell_type": "code",
   "execution_count": 15,
   "metadata": {
    "colab": {
     "base_uri": "https://localhost:8080/",
     "height": 436
    },
    "id": "WbAS37_mhRrl",
    "outputId": "6b8fa0e8-ed42-412b-9a1a-3e674366b26d"
   },
   "outputs": [
    {
     "name": "stderr",
     "output_type": "stream",
     "text": [
      "No handles with labels found to put in legend.\n"
     ]
    },
    {
     "data": {
      "text/plain": [
       "<matplotlib.legend.Legend at 0x7fcfcf61c9b0>"
      ]
     },
     "execution_count": 15,
     "metadata": {},
     "output_type": "execute_result"
    },
    {
     "data": {
      "image/png": "[encoded data removed]",
      "text/plain": [
       "<Figure size 432x288 with 2 Axes>"
      ]
     },
     "metadata": {
      "needs_background": "light"
     },
     "output_type": "display_data"
    }
   ],
   "source": [
    "fire.plot(kind=\"scatter\", x=\"longitude\", y=\"latitude\", alpha=0.4,\n",
    "    #s=fire[\"brightness\"]/100, label=\"brightness\", figsize=(10,7),\n",
    "    c=\"confidence\", cmap=plt.get_cmap(\"jet\"), colorbar=True,\n",
    ")\n",
    "plt.legend()\n",
    "# plots the confidence of the hotspots with red being high confidence and blue being low confidence. \n"
   ]
  },
  {
   "cell_type": "code",
   "execution_count": 16,
   "metadata": {
    "id": "mPFFmODqhRrm"
   },
   "outputs": [],
   "source": [
    "# Now we will look at the correlation of all the attributes with the expected class attribute (confidence)\n",
    "corr_matrix = fire.corr() # computes the standard correlation coefficient (Pearson’s r) between every pair of attributes"
   ]
  },
  {
   "cell_type": "code",
   "execution_count": 17,
   "metadata": {
    "colab": {
     "base_uri": "https://localhost:8080/"
    },
    "id": "HL9bYSdZhRrn",
    "outputId": "6983d728-179b-4c9e-91c0-8bf7f6b40839"
   },
   "outputs": [
    {
     "data": {
      "text/plain": [
       "confidence    1.000000e+00\n",
       "brightness    6.146908e-01\n",
       "frp           3.553878e-01\n",
       "bright_t31    2.385060e-01\n",
       "latitude      2.065634e-02\n",
       "version      -5.660263e-15\n",
       "longitude    -3.552895e-02\n",
       "type         -4.163203e-02\n",
       "acq_time     -7.015024e-02\n",
       "scan         -1.038080e-01\n",
       "track        -1.059490e-01\n",
       "Name: confidence, dtype: float64"
      ]
     },
     "execution_count": 17,
     "metadata": {},
     "output_type": "execute_result"
    }
   ],
   "source": [
    "corr_matrix[\"confidence\"].sort_values(ascending=False)\n",
    "# Q6 Which are the most correlated attributes with the output variable(i.e.confidence)?\n",
    "# Does that make sense?\n",
    "# A6: The most correlated attributes with the target attribute confidence are the brightness and the frp such that\n",
    "#     they have strong positive correlation. According to the definitions of these two attributes, it makes\n",
    "#     sense that the brightness, which is the temperature of hotspot region, and the frp, which is the \n",
    "#     radiative power of the hotspot, can affect the confidence of the hotspot more than the other features. \n",
    "#     The scan, track and acq_time attributes have negative correlation with the confidence attribute. This may \n",
    "#     be due to the reason that the more amount of time the satellite spends on a particular region of interest,\n",
    "#     the less likely it can be that that region has low confidence of hotspot"
   ]
  },
  {
   "cell_type": "code",
   "execution_count": 18,
   "metadata": {
    "colab": {
     "base_uri": "https://localhost:8080/",
     "height": 807
    },
    "id": "pM2GqEYNhRrn",
    "outputId": "7e6339f4-456d-4854-909e-c2e9023f1501"
   },
   "outputs": [
    {
     "data": {
      "text/plain": [
       "array([[<AxesSubplot:xlabel='confidence', ylabel='confidence'>,\n",
       "        <AxesSubplot:xlabel='brightness', ylabel='confidence'>,\n",
       "        <AxesSubplot:xlabel='frp', ylabel='confidence'>,\n",
       "        <AxesSubplot:xlabel='bright_t31', ylabel='confidence'>],\n",
       "       [<AxesSubplot:xlabel='confidence', ylabel='brightness'>,\n",
       "        <AxesSubplot:xlabel='brightness', ylabel='brightness'>,\n",
       "        <AxesSubplot:xlabel='frp', ylabel='brightness'>,\n",
       "        <AxesSubplot:xlabel='bright_t31', ylabel='brightness'>],\n",
       "       [<AxesSubplot:xlabel='confidence', ylabel='frp'>,\n",
       "        <AxesSubplot:xlabel='brightness', ylabel='frp'>,\n",
       "        <AxesSubplot:xlabel='frp', ylabel='frp'>,\n",
       "        <AxesSubplot:xlabel='bright_t31', ylabel='frp'>],\n",
       "       [<AxesSubplot:xlabel='confidence', ylabel='bright_t31'>,\n",
       "        <AxesSubplot:xlabel='brightness', ylabel='bright_t31'>,\n",
       "        <AxesSubplot:xlabel='frp', ylabel='bright_t31'>,\n",
       "        <AxesSubplot:xlabel='bright_t31', ylabel='bright_t31'>]],\n",
       "      dtype=object)"
      ]
     },
     "execution_count": 18,
     "metadata": {},
     "output_type": "execute_result"
    },
    {
     "data": {
      "image/png": "[encoded data removed]",
      "text/plain": [
       "<Figure size 864x576 with 16 Axes>"
      ]
     },
     "metadata": {
      "needs_background": "light"
     },
     "output_type": "display_data"
    }
   ],
   "source": [
    "from pandas.plotting import scatter_matrix\n",
    "\n",
    "attributes = [\"confidence\", \"brightness\", \"frp\",\n",
    "              \"bright_t31\"]\n",
    "scatter_matrix(fire[attributes], figsize=(12, 8))\n",
    "# Another way to check for correlation between attributes is to use the pandas scatter_matrix() function above\n",
    "# Here we choose to plot 4 promising  numerical attributes against each other\n"
   ]
  },
  {
   "cell_type": "code",
   "execution_count": 19,
   "metadata": {
    "colab": {
     "base_uri": "https://localhost:8080/",
     "height": 297
    },
    "id": "FcYqngBShRro",
    "outputId": "92207209-5012-415a-c931-61bfd9a63354"
   },
   "outputs": [
    {
     "data": {
      "text/plain": [
       "(300.0, 500.0, 0.0, 100.0)"
      ]
     },
     "execution_count": 19,
     "metadata": {},
     "output_type": "execute_result"
    },
    {
     "data": {
      "image/png": "[encoded data removed]",
      "text/plain": [
       "<Figure size 432x288 with 1 Axes>"
      ]
     },
     "metadata": {
      "needs_background": "light"
     },
     "output_type": "display_data"
    }
   ],
   "source": [
    "# let’s zoom in on the correlation scatterplot \"confidence & the brightness,\"\n",
    "fire.plot(kind=\"scatter\", x=\"brightness\", y=\"confidence\",\n",
    "             alpha=0.1)\n",
    "plt.axis([300, 500, 0, 100])\n",
    "#Q7 Describe the plot below. What does this indicate? Do you have an explanation for the solid line?\n",
    "#A7:  Due to the upward trend, it can be concluded that the correlation is very strong. There are straight  \n",
    "#     horizontal lines at around 100, 90, 85, 75 and even around 0. This needs to be considered in order to prevent\n",
    "#     data quirks"
   ]
  },
  {
   "cell_type": "markdown",
   "metadata": {},
   "source": [
    "# Dealing with Null Values"
   ]
  },
  {
   "cell_type": "markdown",
   "metadata": {},
   "source": [
    "Since this dataset does not have null values, we are inserting null values to some records to demonstrate the Data Cleaning Process"
   ]
  },
  {
   "cell_type": "code",
   "execution_count": 20,
   "metadata": {},
   "outputs": [
    {
     "data": {
      "text/html": [
       "<div>\n",
       "<style scoped>\n",
       "    .dataframe tbody tr th:only-of-type {\n",
       "        vertical-align: middle;\n",
       "    }\n",
       "\n",
       "    .dataframe tbody tr th {\n",
       "        vertical-align: top;\n",
       "    }\n",
       "\n",
       "    .dataframe thead th {\n",
       "        text-align: right;\n",
       "    }\n",
       "</style>\n",
       "<table border=\"1\" class=\"dataframe\">\n",
       "  <thead>\n",
       "    <tr style=\"text-align: right;\">\n",
       "      <th></th>\n",
       "      <th>latitude</th>\n",
       "      <th>longitude</th>\n",
       "      <th>brightness</th>\n",
       "      <th>scan</th>\n",
       "      <th>track</th>\n",
       "      <th>acq_date</th>\n",
       "      <th>acq_time</th>\n",
       "      <th>satellite</th>\n",
       "      <th>instrument</th>\n",
       "      <th>confidence</th>\n",
       "      <th>version</th>\n",
       "      <th>bright_t31</th>\n",
       "      <th>frp</th>\n",
       "      <th>daynight</th>\n",
       "      <th>type</th>\n",
       "    </tr>\n",
       "  </thead>\n",
       "  <tbody>\n",
       "    <tr>\n",
       "      <th>0</th>\n",
       "      <td>-11.8070</td>\n",
       "      <td>142.0583</td>\n",
       "      <td>313.0</td>\n",
       "      <td>1.0</td>\n",
       "      <td>1.0</td>\n",
       "      <td>2019-08-01</td>\n",
       "      <td>NaN</td>\n",
       "      <td>Terra</td>\n",
       "      <td>MODIS</td>\n",
       "      <td>48</td>\n",
       "      <td>6.3</td>\n",
       "      <td>297.3</td>\n",
       "      <td>6.6</td>\n",
       "      <td>D</td>\n",
       "      <td>0</td>\n",
       "    </tr>\n",
       "    <tr>\n",
       "      <th>1</th>\n",
       "      <td>-11.7924</td>\n",
       "      <td>142.0850</td>\n",
       "      <td>319.3</td>\n",
       "      <td>1.0</td>\n",
       "      <td>1.0</td>\n",
       "      <td>2019-08-01</td>\n",
       "      <td>NaN</td>\n",
       "      <td>Terra</td>\n",
       "      <td>MODIS</td>\n",
       "      <td>71</td>\n",
       "      <td>6.3</td>\n",
       "      <td>297.3</td>\n",
       "      <td>11.3</td>\n",
       "      <td>D</td>\n",
       "      <td>0</td>\n",
       "    </tr>\n",
       "    <tr>\n",
       "      <th>2</th>\n",
       "      <td>-12.8398</td>\n",
       "      <td>132.8744</td>\n",
       "      <td>311.6</td>\n",
       "      <td>3.1</td>\n",
       "      <td>1.7</td>\n",
       "      <td>2019-08-01</td>\n",
       "      <td>NaN</td>\n",
       "      <td>Terra</td>\n",
       "      <td>MODIS</td>\n",
       "      <td>42</td>\n",
       "      <td>6.3</td>\n",
       "      <td>298.7</td>\n",
       "      <td>23.1</td>\n",
       "      <td>D</td>\n",
       "      <td>0</td>\n",
       "    </tr>\n",
       "    <tr>\n",
       "      <th>3</th>\n",
       "      <td>-14.4306</td>\n",
       "      <td>143.3035</td>\n",
       "      <td>310.1</td>\n",
       "      <td>1.1</td>\n",
       "      <td>1.1</td>\n",
       "      <td>2019-08-01</td>\n",
       "      <td>NaN</td>\n",
       "      <td>Terra</td>\n",
       "      <td>MODIS</td>\n",
       "      <td>33</td>\n",
       "      <td>6.3</td>\n",
       "      <td>296.1</td>\n",
       "      <td>6.5</td>\n",
       "      <td>D</td>\n",
       "      <td>0</td>\n",
       "    </tr>\n",
       "    <tr>\n",
       "      <th>4</th>\n",
       "      <td>-12.4953</td>\n",
       "      <td>131.4897</td>\n",
       "      <td>310.3</td>\n",
       "      <td>4.0</td>\n",
       "      <td>1.9</td>\n",
       "      <td>2019-08-01</td>\n",
       "      <td>NaN</td>\n",
       "      <td>Terra</td>\n",
       "      <td>MODIS</td>\n",
       "      <td>36</td>\n",
       "      <td>6.3</td>\n",
       "      <td>298.8</td>\n",
       "      <td>27.6</td>\n",
       "      <td>D</td>\n",
       "      <td>0</td>\n",
       "    </tr>\n",
       "  </tbody>\n",
       "</table>\n",
       "</div>"
      ],
      "text/plain": [
       "   latitude  longitude  brightness  scan  track    acq_date  acq_time  \\\n",
       "0  -11.8070   142.0583       313.0   1.0    1.0  2019-08-01       NaN   \n",
       "1  -11.7924   142.0850       319.3   1.0    1.0  2019-08-01       NaN   \n",
       "2  -12.8398   132.8744       311.6   3.1    1.7  2019-08-01       NaN   \n",
       "3  -14.4306   143.3035       310.1   1.1    1.1  2019-08-01       NaN   \n",
       "4  -12.4953   131.4897       310.3   4.0    1.9  2019-08-01       NaN   \n",
       "\n",
       "  satellite instrument  confidence  version  bright_t31   frp daynight  type  \n",
       "0     Terra      MODIS          48      6.3       297.3   6.6        D     0  \n",
       "1     Terra      MODIS          71      6.3       297.3  11.3        D     0  \n",
       "2     Terra      MODIS          42      6.3       298.7  23.1        D     0  \n",
       "3     Terra      MODIS          33      6.3       296.1   6.5        D     0  \n",
       "4     Terra      MODIS          36      6.3       298.8  27.6        D     0  "
      ]
     },
     "execution_count": 20,
     "metadata": {},
     "output_type": "execute_result"
    }
   ],
   "source": [
    "sample_incomplete_rows = fire[fire.isnull().any(axis=1)].head()\n",
    "sample_incomplete_rows"
   ]
  },
  {
   "cell_type": "code",
   "execution_count": 21,
   "metadata": {},
   "outputs": [
    {
     "data": {
      "text/html": [
       "<div>\n",
       "<style scoped>\n",
       "    .dataframe tbody tr th:only-of-type {\n",
       "        vertical-align: middle;\n",
       "    }\n",
       "\n",
       "    .dataframe tbody tr th {\n",
       "        vertical-align: top;\n",
       "    }\n",
       "\n",
       "    .dataframe thead th {\n",
       "        text-align: right;\n",
       "    }\n",
       "</style>\n",
       "<table border=\"1\" class=\"dataframe\">\n",
       "  <thead>\n",
       "    <tr style=\"text-align: right;\">\n",
       "      <th></th>\n",
       "      <th>latitude</th>\n",
       "      <th>longitude</th>\n",
       "      <th>brightness</th>\n",
       "      <th>scan</th>\n",
       "      <th>track</th>\n",
       "      <th>acq_date</th>\n",
       "      <th>acq_time</th>\n",
       "      <th>satellite</th>\n",
       "      <th>instrument</th>\n",
       "      <th>confidence</th>\n",
       "      <th>version</th>\n",
       "      <th>bright_t31</th>\n",
       "      <th>frp</th>\n",
       "      <th>daynight</th>\n",
       "      <th>type</th>\n",
       "    </tr>\n",
       "  </thead>\n",
       "  <tbody>\n",
       "  </tbody>\n",
       "</table>\n",
       "</div>"
      ],
      "text/plain": [
       "Empty DataFrame\n",
       "Columns: [latitude, longitude, brightness, scan, track, acq_date, acq_time, satellite, instrument, confidence, version, bright_t31, frp, daynight, type]\n",
       "Index: []"
      ]
     },
     "execution_count": 21,
     "metadata": {},
     "output_type": "execute_result"
    }
   ],
   "source": [
    "sample_incomplete_rows.dropna(subset=[\"acq_time\"])"
   ]
  },
  {
   "cell_type": "code",
   "execution_count": 22,
   "metadata": {},
   "outputs": [
    {
     "data": {
      "text/html": [
       "<div>\n",
       "<style scoped>\n",
       "    .dataframe tbody tr th:only-of-type {\n",
       "        vertical-align: middle;\n",
       "    }\n",
       "\n",
       "    .dataframe tbody tr th {\n",
       "        vertical-align: top;\n",
       "    }\n",
       "\n",
       "    .dataframe thead th {\n",
       "        text-align: right;\n",
       "    }\n",
       "</style>\n",
       "<table border=\"1\" class=\"dataframe\">\n",
       "  <thead>\n",
       "    <tr style=\"text-align: right;\">\n",
       "      <th></th>\n",
       "      <th>latitude</th>\n",
       "      <th>longitude</th>\n",
       "      <th>brightness</th>\n",
       "      <th>scan</th>\n",
       "      <th>track</th>\n",
       "      <th>acq_date</th>\n",
       "      <th>satellite</th>\n",
       "      <th>instrument</th>\n",
       "      <th>confidence</th>\n",
       "      <th>version</th>\n",
       "      <th>bright_t31</th>\n",
       "      <th>frp</th>\n",
       "      <th>daynight</th>\n",
       "      <th>type</th>\n",
       "    </tr>\n",
       "  </thead>\n",
       "  <tbody>\n",
       "    <tr>\n",
       "      <th>0</th>\n",
       "      <td>-11.8070</td>\n",
       "      <td>142.0583</td>\n",
       "      <td>313.0</td>\n",
       "      <td>1.0</td>\n",
       "      <td>1.0</td>\n",
       "      <td>2019-08-01</td>\n",
       "      <td>Terra</td>\n",
       "      <td>MODIS</td>\n",
       "      <td>48</td>\n",
       "      <td>6.3</td>\n",
       "      <td>297.3</td>\n",
       "      <td>6.6</td>\n",
       "      <td>D</td>\n",
       "      <td>0</td>\n",
       "    </tr>\n",
       "    <tr>\n",
       "      <th>1</th>\n",
       "      <td>-11.7924</td>\n",
       "      <td>142.0850</td>\n",
       "      <td>319.3</td>\n",
       "      <td>1.0</td>\n",
       "      <td>1.0</td>\n",
       "      <td>2019-08-01</td>\n",
       "      <td>Terra</td>\n",
       "      <td>MODIS</td>\n",
       "      <td>71</td>\n",
       "      <td>6.3</td>\n",
       "      <td>297.3</td>\n",
       "      <td>11.3</td>\n",
       "      <td>D</td>\n",
       "      <td>0</td>\n",
       "    </tr>\n",
       "    <tr>\n",
       "      <th>2</th>\n",
       "      <td>-12.8398</td>\n",
       "      <td>132.8744</td>\n",
       "      <td>311.6</td>\n",
       "      <td>3.1</td>\n",
       "      <td>1.7</td>\n",
       "      <td>2019-08-01</td>\n",
       "      <td>Terra</td>\n",
       "      <td>MODIS</td>\n",
       "      <td>42</td>\n",
       "      <td>6.3</td>\n",
       "      <td>298.7</td>\n",
       "      <td>23.1</td>\n",
       "      <td>D</td>\n",
       "      <td>0</td>\n",
       "    </tr>\n",
       "    <tr>\n",
       "      <th>3</th>\n",
       "      <td>-14.4306</td>\n",
       "      <td>143.3035</td>\n",
       "      <td>310.1</td>\n",
       "      <td>1.1</td>\n",
       "      <td>1.1</td>\n",
       "      <td>2019-08-01</td>\n",
       "      <td>Terra</td>\n",
       "      <td>MODIS</td>\n",
       "      <td>33</td>\n",
       "      <td>6.3</td>\n",
       "      <td>296.1</td>\n",
       "      <td>6.5</td>\n",
       "      <td>D</td>\n",
       "      <td>0</td>\n",
       "    </tr>\n",
       "    <tr>\n",
       "      <th>4</th>\n",
       "      <td>-12.4953</td>\n",
       "      <td>131.4897</td>\n",
       "      <td>310.3</td>\n",
       "      <td>4.0</td>\n",
       "      <td>1.9</td>\n",
       "      <td>2019-08-01</td>\n",
       "      <td>Terra</td>\n",
       "      <td>MODIS</td>\n",
       "      <td>36</td>\n",
       "      <td>6.3</td>\n",
       "      <td>298.8</td>\n",
       "      <td>27.6</td>\n",
       "      <td>D</td>\n",
       "      <td>0</td>\n",
       "    </tr>\n",
       "  </tbody>\n",
       "</table>\n",
       "</div>"
      ],
      "text/plain": [
       "   latitude  longitude  brightness  scan  track    acq_date satellite  \\\n",
       "0  -11.8070   142.0583       313.0   1.0    1.0  2019-08-01     Terra   \n",
       "1  -11.7924   142.0850       319.3   1.0    1.0  2019-08-01     Terra   \n",
       "2  -12.8398   132.8744       311.6   3.1    1.7  2019-08-01     Terra   \n",
       "3  -14.4306   143.3035       310.1   1.1    1.1  2019-08-01     Terra   \n",
       "4  -12.4953   131.4897       310.3   4.0    1.9  2019-08-01     Terra   \n",
       "\n",
       "  instrument  confidence  version  bright_t31   frp daynight  type  \n",
       "0      MODIS          48      6.3       297.3   6.6        D     0  \n",
       "1      MODIS          71      6.3       297.3  11.3        D     0  \n",
       "2      MODIS          42      6.3       298.7  23.1        D     0  \n",
       "3      MODIS          33      6.3       296.1   6.5        D     0  \n",
       "4      MODIS          36      6.3       298.8  27.6        D     0  "
      ]
     },
     "execution_count": 22,
     "metadata": {},
     "output_type": "execute_result"
    }
   ],
   "source": [
    "sample_incomplete_rows.drop(\"acq_time\", axis=1) "
   ]
  },
  {
   "cell_type": "code",
   "execution_count": 44,
   "metadata": {},
   "outputs": [],
   "source": [
    "median = fire[\"acq_time\"].median() # calculate the median of total_bedrooms\n",
    "fire[\"acq_time\"].fillna(median, inplace=True)"
   ]
  },
  {
   "cell_type": "code",
   "execution_count": 45,
   "metadata": {},
   "outputs": [
    {
     "data": {
      "text/html": [
       "<div>\n",
       "<style scoped>\n",
       "    .dataframe tbody tr th:only-of-type {\n",
       "        vertical-align: middle;\n",
       "    }\n",
       "\n",
       "    .dataframe tbody tr th {\n",
       "        vertical-align: top;\n",
       "    }\n",
       "\n",
       "    .dataframe thead th {\n",
       "        text-align: right;\n",
       "    }\n",
       "</style>\n",
       "<table border=\"1\" class=\"dataframe\">\n",
       "  <thead>\n",
       "    <tr style=\"text-align: right;\">\n",
       "      <th></th>\n",
       "      <th>latitude</th>\n",
       "      <th>longitude</th>\n",
       "      <th>brightness</th>\n",
       "      <th>scan</th>\n",
       "      <th>track</th>\n",
       "      <th>acq_date</th>\n",
       "      <th>acq_time</th>\n",
       "      <th>satellite</th>\n",
       "      <th>instrument</th>\n",
       "      <th>confidence</th>\n",
       "      <th>version</th>\n",
       "      <th>bright_t31</th>\n",
       "      <th>frp</th>\n",
       "      <th>daynight</th>\n",
       "      <th>type</th>\n",
       "    </tr>\n",
       "  </thead>\n",
       "  <tbody>\n",
       "    <tr>\n",
       "      <th>0</th>\n",
       "      <td>-11.8070</td>\n",
       "      <td>142.0583</td>\n",
       "      <td>313.0</td>\n",
       "      <td>1.0</td>\n",
       "      <td>1.0</td>\n",
       "      <td>2019-08-01</td>\n",
       "      <td>424.0</td>\n",
       "      <td>Terra</td>\n",
       "      <td>MODIS</td>\n",
       "      <td>48</td>\n",
       "      <td>6.3</td>\n",
       "      <td>297.3</td>\n",
       "      <td>6.6</td>\n",
       "      <td>D</td>\n",
       "      <td>0</td>\n",
       "    </tr>\n",
       "    <tr>\n",
       "      <th>1</th>\n",
       "      <td>-11.7924</td>\n",
       "      <td>142.0850</td>\n",
       "      <td>319.3</td>\n",
       "      <td>1.0</td>\n",
       "      <td>1.0</td>\n",
       "      <td>2019-08-01</td>\n",
       "      <td>424.0</td>\n",
       "      <td>Terra</td>\n",
       "      <td>MODIS</td>\n",
       "      <td>71</td>\n",
       "      <td>6.3</td>\n",
       "      <td>297.3</td>\n",
       "      <td>11.3</td>\n",
       "      <td>D</td>\n",
       "      <td>0</td>\n",
       "    </tr>\n",
       "    <tr>\n",
       "      <th>2</th>\n",
       "      <td>-12.8398</td>\n",
       "      <td>132.8744</td>\n",
       "      <td>311.6</td>\n",
       "      <td>3.1</td>\n",
       "      <td>1.7</td>\n",
       "      <td>2019-08-01</td>\n",
       "      <td>424.0</td>\n",
       "      <td>Terra</td>\n",
       "      <td>MODIS</td>\n",
       "      <td>42</td>\n",
       "      <td>6.3</td>\n",
       "      <td>298.7</td>\n",
       "      <td>23.1</td>\n",
       "      <td>D</td>\n",
       "      <td>0</td>\n",
       "    </tr>\n",
       "    <tr>\n",
       "      <th>3</th>\n",
       "      <td>-14.4306</td>\n",
       "      <td>143.3035</td>\n",
       "      <td>310.1</td>\n",
       "      <td>1.1</td>\n",
       "      <td>1.1</td>\n",
       "      <td>2019-08-01</td>\n",
       "      <td>424.0</td>\n",
       "      <td>Terra</td>\n",
       "      <td>MODIS</td>\n",
       "      <td>33</td>\n",
       "      <td>6.3</td>\n",
       "      <td>296.1</td>\n",
       "      <td>6.5</td>\n",
       "      <td>D</td>\n",
       "      <td>0</td>\n",
       "    </tr>\n",
       "    <tr>\n",
       "      <th>4</th>\n",
       "      <td>-12.4953</td>\n",
       "      <td>131.4897</td>\n",
       "      <td>310.3</td>\n",
       "      <td>4.0</td>\n",
       "      <td>1.9</td>\n",
       "      <td>2019-08-01</td>\n",
       "      <td>424.0</td>\n",
       "      <td>Terra</td>\n",
       "      <td>MODIS</td>\n",
       "      <td>36</td>\n",
       "      <td>6.3</td>\n",
       "      <td>298.8</td>\n",
       "      <td>27.6</td>\n",
       "      <td>D</td>\n",
       "      <td>0</td>\n",
       "    </tr>\n",
       "  </tbody>\n",
       "</table>\n",
       "</div>"
      ],
      "text/plain": [
       "   latitude  longitude  brightness  scan  track    acq_date  acq_time  \\\n",
       "0  -11.8070   142.0583       313.0   1.0    1.0  2019-08-01     424.0   \n",
       "1  -11.7924   142.0850       319.3   1.0    1.0  2019-08-01     424.0   \n",
       "2  -12.8398   132.8744       311.6   3.1    1.7  2019-08-01     424.0   \n",
       "3  -14.4306   143.3035       310.1   1.1    1.1  2019-08-01     424.0   \n",
       "4  -12.4953   131.4897       310.3   4.0    1.9  2019-08-01     424.0   \n",
       "\n",
       "  satellite instrument  confidence  version  bright_t31   frp daynight  type  \n",
       "0     Terra      MODIS          48      6.3       297.3   6.6        D     0  \n",
       "1     Terra      MODIS          71      6.3       297.3  11.3        D     0  \n",
       "2     Terra      MODIS          42      6.3       298.7  23.1        D     0  \n",
       "3     Terra      MODIS          33      6.3       296.1   6.5        D     0  \n",
       "4     Terra      MODIS          36      6.3       298.8  27.6        D     0  "
      ]
     },
     "execution_count": 45,
     "metadata": {},
     "output_type": "execute_result"
    }
   ],
   "source": [
    "fire.head()"
   ]
  },
  {
   "cell_type": "markdown",
   "metadata": {
    "id": "WnX7vYm2hRr5"
   },
   "source": [
    "## Scikit-Learn solution (optional)\n"
   ]
  },
  {
   "cell_type": "code",
   "execution_count": 46,
   "metadata": {
    "id": "LyOLU4ClhRr6"
   },
   "outputs": [],
   "source": [
    "from sklearn.impute import SimpleImputer      # Look up SimpleImputer Class in Sklearn Documenation\n",
    "imputer = SimpleImputer(strategy=\"median\")    # Replace each missing attribute with median of that attribute "
   ]
  },
  {
   "cell_type": "code",
   "execution_count": 47,
   "metadata": {
    "id": "cFC2uLDmhRr7"
   },
   "outputs": [],
   "source": [
    "#We cant compute the median of a categorical data, therefore we are creating a copy of the data without cat. data\n",
    "fire_num = fire.drop([\"acq_date\",\"satellite\", \"instrument\", \"version\", \"daynight\"] ,axis=1) "
   ]
  },
  {
   "cell_type": "code",
   "execution_count": 48,
   "metadata": {
    "colab": {
     "base_uri": "https://localhost:8080/"
    },
    "id": "2o5sV5I4hRr8",
    "outputId": "c6fa4095-ba17-41ed-b8b6-c89a5dc05d09"
   },
   "outputs": [
    {
     "data": {
      "text/plain": [
       "SimpleImputer(strategy='median')"
      ]
     },
     "execution_count": 48,
     "metadata": {},
     "output_type": "execute_result"
    }
   ],
   "source": [
    "imputer.fit(fire_num)"
   ]
  },
  {
   "cell_type": "markdown",
   "metadata": {
    "id": "qjn5yCXnhRr8"
   },
   "source": [
    "The imputer has simply computed the median of each attribute and stored the result in its `statistics_` instance variable. "
   ]
  },
  {
   "cell_type": "code",
   "execution_count": 49,
   "metadata": {
    "colab": {
     "base_uri": "https://localhost:8080/"
    },
    "id": "zg6TgmeGhRr8",
    "outputId": "33945d78-4218-4081-b5e8-3e4a24e7452f"
   },
   "outputs": [
    {
     "data": {
      "text/plain": [
       "array([-15.7065, 136.7385, 326.4   ,   1.3   ,   1.1   , 424.    ,\n",
       "        70.    , 302.4   ,  25.8   ,   0.    ])"
      ]
     },
     "execution_count": 49,
     "metadata": {},
     "output_type": "execute_result"
    }
   ],
   "source": [
    "imputer.statistics_"
   ]
  },
  {
   "cell_type": "code",
   "execution_count": 50,
   "metadata": {
    "colab": {
     "base_uri": "https://localhost:8080/"
    },
    "id": "lJhzkVCnhRr8",
    "outputId": "7a5d346f-fa6c-4520-fe06-6db584a27c15"
   },
   "outputs": [
    {
     "data": {
      "text/plain": [
       "array([-15.7065, 136.7385, 326.4   ,   1.3   ,   1.1   , 424.    ,\n",
       "        70.    , 302.4   ,  25.8   ,   0.    ])"
      ]
     },
     "execution_count": 50,
     "metadata": {},
     "output_type": "execute_result"
    }
   ],
   "source": [
    "fire_num.median().values #Check that this is the same as manually computing the median of each attribute\n"
   ]
  },
  {
   "cell_type": "code",
   "execution_count": 51,
   "metadata": {
    "id": "8x0W2Z-0hRr9"
   },
   "outputs": [],
   "source": [
    "X = imputer.transform(fire_num) # transform the data set"
   ]
  },
  {
   "cell_type": "code",
   "execution_count": 52,
   "metadata": {
    "id": "yJbltHl7hRr-"
   },
   "outputs": [],
   "source": [
    "fire_tr = pd.DataFrame(X, columns=fire_num.columns,\n",
    "                          index=fire_num.index) # load the new tranformed data set into the pandas frame fire_tr"
   ]
  },
  {
   "cell_type": "markdown",
   "metadata": {
    "id": "X6xyVgYlhRr_"
   },
   "source": [
    "### Handling Text and Categorical Attributes"
   ]
  },
  {
   "cell_type": "code",
   "execution_count": 53,
   "metadata": {
    "colab": {
     "base_uri": "https://localhost:8080/",
     "height": 359
    },
    "id": "b1F5WdRThRsA",
    "outputId": "c944f9a3-d6ca-47ba-b972-362ae02f7e12"
   },
   "outputs": [
    {
     "data": {
      "text/html": [
       "<div>\n",
       "<style scoped>\n",
       "    .dataframe tbody tr th:only-of-type {\n",
       "        vertical-align: middle;\n",
       "    }\n",
       "\n",
       "    .dataframe tbody tr th {\n",
       "        vertical-align: top;\n",
       "    }\n",
       "\n",
       "    .dataframe thead th {\n",
       "        text-align: right;\n",
       "    }\n",
       "</style>\n",
       "<table border=\"1\" class=\"dataframe\">\n",
       "  <thead>\n",
       "    <tr style=\"text-align: right;\">\n",
       "      <th></th>\n",
       "      <th>daynight</th>\n",
       "      <th>satellite</th>\n",
       "    </tr>\n",
       "  </thead>\n",
       "  <tbody>\n",
       "    <tr>\n",
       "      <th>0</th>\n",
       "      <td>D</td>\n",
       "      <td>Terra</td>\n",
       "    </tr>\n",
       "    <tr>\n",
       "      <th>1</th>\n",
       "      <td>D</td>\n",
       "      <td>Terra</td>\n",
       "    </tr>\n",
       "    <tr>\n",
       "      <th>2</th>\n",
       "      <td>D</td>\n",
       "      <td>Terra</td>\n",
       "    </tr>\n",
       "    <tr>\n",
       "      <th>3</th>\n",
       "      <td>D</td>\n",
       "      <td>Terra</td>\n",
       "    </tr>\n",
       "    <tr>\n",
       "      <th>4</th>\n",
       "      <td>D</td>\n",
       "      <td>Terra</td>\n",
       "    </tr>\n",
       "    <tr>\n",
       "      <th>5</th>\n",
       "      <td>D</td>\n",
       "      <td>Terra</td>\n",
       "    </tr>\n",
       "    <tr>\n",
       "      <th>6</th>\n",
       "      <td>D</td>\n",
       "      <td>Terra</td>\n",
       "    </tr>\n",
       "    <tr>\n",
       "      <th>7</th>\n",
       "      <td>D</td>\n",
       "      <td>Terra</td>\n",
       "    </tr>\n",
       "    <tr>\n",
       "      <th>8</th>\n",
       "      <td>D</td>\n",
       "      <td>Terra</td>\n",
       "    </tr>\n",
       "    <tr>\n",
       "      <th>9</th>\n",
       "      <td>D</td>\n",
       "      <td>Terra</td>\n",
       "    </tr>\n",
       "  </tbody>\n",
       "</table>\n",
       "</div>"
      ],
      "text/plain": [
       "  daynight satellite\n",
       "0        D     Terra\n",
       "1        D     Terra\n",
       "2        D     Terra\n",
       "3        D     Terra\n",
       "4        D     Terra\n",
       "5        D     Terra\n",
       "6        D     Terra\n",
       "7        D     Terra\n",
       "8        D     Terra\n",
       "9        D     Terra"
      ]
     },
     "execution_count": 53,
     "metadata": {},
     "output_type": "execute_result"
    }
   ],
   "source": [
    "fire_cat = fire[[\"daynight\", \"satellite\"]]\n",
    "fire_cat.head(10)  # look at the values for the first 10 instances "
   ]
  },
  {
   "cell_type": "code",
   "execution_count": 54,
   "metadata": {
    "colab": {
     "base_uri": "https://localhost:8080/",
     "height": 359
    },
    "id": "EECQACwDhRsA",
    "outputId": "f47dda29-6672-4a85-fc3d-beca71b9d0d8"
   },
   "outputs": [
    {
     "data": {
      "text/html": [
       "<div>\n",
       "<style scoped>\n",
       "    .dataframe tbody tr th:only-of-type {\n",
       "        vertical-align: middle;\n",
       "    }\n",
       "\n",
       "    .dataframe tbody tr th {\n",
       "        vertical-align: top;\n",
       "    }\n",
       "\n",
       "    .dataframe thead th {\n",
       "        text-align: right;\n",
       "    }\n",
       "</style>\n",
       "<table border=\"1\" class=\"dataframe\">\n",
       "  <thead>\n",
       "    <tr style=\"text-align: right;\">\n",
       "      <th></th>\n",
       "      <th>daynight</th>\n",
       "      <th>satellite</th>\n",
       "    </tr>\n",
       "  </thead>\n",
       "  <tbody>\n",
       "    <tr>\n",
       "      <th>36001</th>\n",
       "      <td>N</td>\n",
       "      <td>Aqua</td>\n",
       "    </tr>\n",
       "    <tr>\n",
       "      <th>36002</th>\n",
       "      <td>N</td>\n",
       "      <td>Aqua</td>\n",
       "    </tr>\n",
       "    <tr>\n",
       "      <th>36003</th>\n",
       "      <td>N</td>\n",
       "      <td>Aqua</td>\n",
       "    </tr>\n",
       "    <tr>\n",
       "      <th>36004</th>\n",
       "      <td>N</td>\n",
       "      <td>Aqua</td>\n",
       "    </tr>\n",
       "    <tr>\n",
       "      <th>36005</th>\n",
       "      <td>N</td>\n",
       "      <td>Aqua</td>\n",
       "    </tr>\n",
       "    <tr>\n",
       "      <th>36006</th>\n",
       "      <td>N</td>\n",
       "      <td>Aqua</td>\n",
       "    </tr>\n",
       "    <tr>\n",
       "      <th>36007</th>\n",
       "      <td>N</td>\n",
       "      <td>Aqua</td>\n",
       "    </tr>\n",
       "    <tr>\n",
       "      <th>36008</th>\n",
       "      <td>N</td>\n",
       "      <td>Aqua</td>\n",
       "    </tr>\n",
       "    <tr>\n",
       "      <th>36009</th>\n",
       "      <td>N</td>\n",
       "      <td>Aqua</td>\n",
       "    </tr>\n",
       "    <tr>\n",
       "      <th>36010</th>\n",
       "      <td>N</td>\n",
       "      <td>Aqua</td>\n",
       "    </tr>\n",
       "  </tbody>\n",
       "</table>\n",
       "</div>"
      ],
      "text/plain": [
       "      daynight satellite\n",
       "36001        N      Aqua\n",
       "36002        N      Aqua\n",
       "36003        N      Aqua\n",
       "36004        N      Aqua\n",
       "36005        N      Aqua\n",
       "36006        N      Aqua\n",
       "36007        N      Aqua\n",
       "36008        N      Aqua\n",
       "36009        N      Aqua\n",
       "36010        N      Aqua"
      ]
     },
     "execution_count": 54,
     "metadata": {},
     "output_type": "execute_result"
    }
   ],
   "source": [
    "fire_cat.tail(10)\n",
    "# look at the values for the last 10 instances"
   ]
  },
  {
   "cell_type": "code",
   "execution_count": 55,
   "metadata": {
    "colab": {
     "base_uri": "https://localhost:8080/"
    },
    "id": "Y3HrUaaNhRsB",
    "outputId": "6fb20fa6-4f4a-4710-90d1-f199dde5838a"
   },
   "outputs": [
    {
     "data": {
      "text/plain": [
       "array([[0., 1.],\n",
       "       [0., 1.],\n",
       "       [0., 1.],\n",
       "       [0., 1.],\n",
       "       [0., 1.],\n",
       "       [0., 1.],\n",
       "       [0., 1.],\n",
       "       [0., 1.],\n",
       "       [0., 1.],\n",
       "       [0., 1.]])"
      ]
     },
     "execution_count": 55,
     "metadata": {},
     "output_type": "execute_result"
    }
   ],
   "source": [
    "from sklearn.preprocessing import OrdinalEncoder\n",
    "# sklearn OrdinalEncoder class is used to convert categorical values to numbers\n",
    "ordinal_encoder = OrdinalEncoder() \n",
    "fire_cat_encoded = ordinal_encoder.fit_transform(fire_cat)\n",
    "fire_cat_encoded[:10] # Lists the numerical values that correspond to the categorical attribute\n",
    "# Q15 Why can representing a catogorical variable with numbers be a problem in ML?\n",
    "# A15: There may be a possibility that nearby values are more similar than distant values.However as far as this\n",
    "# dataset is considered the categorical values have only binary classification. "
   ]
  },
  {
   "cell_type": "code",
   "execution_count": 56,
   "metadata": {
    "colab": {
     "base_uri": "https://localhost:8080/"
    },
    "id": "xtawqcnxhRsB",
    "outputId": "3fe6f28c-2c36-4e12-fcd2-021183bb5386"
   },
   "outputs": [
    {
     "data": {
      "text/plain": [
       "[array(['D', 'N'], dtype=object), array(['Aqua', 'Terra'], dtype=object)]"
      ]
     },
     "execution_count": 56,
     "metadata": {},
     "output_type": "execute_result"
    }
   ],
   "source": [
    "# 1 D array of categories for the attribute 'ocean-proximity'\n",
    "ordinal_encoder.categories_ # prints the categories for all categorical attributes , here we only have one categorical attribute\n"
   ]
  },
  {
   "cell_type": "code",
   "execution_count": 57,
   "metadata": {
    "colab": {
     "base_uri": "https://localhost:8080/"
    },
    "id": "D4wnlCPPhRsB",
    "outputId": "b217a828-8154-444e-f88e-8887053f9cf1"
   },
   "outputs": [
    {
     "data": {
      "text/plain": [
       "<36011x4 sparse matrix of type '<class 'numpy.float64'>'\n",
       "\twith 72022 stored elements in Compressed Sparse Row format>"
      ]
     },
     "execution_count": 57,
     "metadata": {},
     "output_type": "execute_result"
    }
   ],
   "source": [
    "# An alternative way to represent a categorical attribuite is to use 'one-hot-encoding'\n",
    "\n",
    "from sklearn.preprocessing import OneHotEncoder  \n",
    "# OneHotEncoder class converts categorical values into one-hot vectors , this assumes no order so better for categorical variables\n",
    "\n",
    "cat_encoder = OneHotEncoder()\n",
    "fire_cat_1hot = cat_encoder.fit_transform(fire_cat)\n",
    "fire_cat_1hot"
   ]
  },
  {
   "cell_type": "code",
   "execution_count": 58,
   "metadata": {
    "colab": {
     "base_uri": "https://localhost:8080/"
    },
    "id": "Vb4HvpfwhRsC",
    "outputId": "8c8fda04-2019-4345-ba2b-e6d74a360395"
   },
   "outputs": [
    {
     "data": {
      "text/plain": [
       "scipy.sparse.csr.csr_matrix"
      ]
     },
     "execution_count": 58,
     "metadata": {},
     "output_type": "execute_result"
    }
   ],
   "source": [
    "type(fire_cat_1hot) # This is a SciPy sparce matrix ( not a NumPy array)\n",
    "# a sparse matrix only stores the location of the non‐zero enties , therefore saves memory"
   ]
  },
  {
   "cell_type": "code",
   "execution_count": 59,
   "metadata": {
    "colab": {
     "base_uri": "https://localhost:8080/"
    },
    "id": "pTa74wdVhRsC",
    "outputId": "823cd462-6e8b-48d6-fcb5-bb5dd7f4aebf"
   },
   "outputs": [
    {
     "data": {
      "text/plain": [
       "array([[1., 0., 0., 1.],\n",
       "       [1., 0., 0., 1.],\n",
       "       [1., 0., 0., 1.],\n",
       "       ...,\n",
       "       [0., 1., 1., 0.],\n",
       "       [0., 1., 1., 0.],\n",
       "       [0., 1., 1., 0.]])"
      ]
     },
     "execution_count": 59,
     "metadata": {},
     "output_type": "execute_result"
    }
   ],
   "source": [
    "fire_cat_1hot.toarray() # To convert it to a (dense) NumPy array, call toarrray() method"
   ]
  },
  {
   "cell_type": "code",
   "execution_count": 60,
   "metadata": {
    "colab": {
     "base_uri": "https://localhost:8080/"
    },
    "id": "pohHpDVYhRsD",
    "outputId": "d65049f2-9516-4030-e307-55c280237f66"
   },
   "outputs": [
    {
     "data": {
      "text/plain": [
       "array([[1., 0., 0., 1.],\n",
       "       [1., 0., 0., 1.],\n",
       "       [1., 0., 0., 1.],\n",
       "       ...,\n",
       "       [0., 1., 1., 0.],\n",
       "       [0., 1., 1., 0.],\n",
       "       [0., 1., 1., 0.]])"
      ]
     },
     "execution_count": 60,
     "metadata": {},
     "output_type": "execute_result"
    }
   ],
   "source": [
    "cat_encoder = OneHotEncoder(sparse=False) # Alternatively, you can set sparse=False when creating the OneHotEncoder\n",
    "fire_cat_1hot = cat_encoder.fit_transform(fire_cat)\n",
    "fire_cat_1hot"
   ]
  },
  {
   "cell_type": "code",
   "execution_count": 61,
   "metadata": {
    "colab": {
     "base_uri": "https://localhost:8080/"
    },
    "id": "alCjsVt0hRsD",
    "outputId": "6764030b-e81d-43dd-de80-3eae1966d7dc"
   },
   "outputs": [
    {
     "data": {
      "text/plain": [
       "[array(['D', 'N'], dtype=object), array(['Aqua', 'Terra'], dtype=object)]"
      ]
     },
     "execution_count": 61,
     "metadata": {},
     "output_type": "execute_result"
    }
   ],
   "source": [
    "cat_encoder.categories_         # Get a list of categories"
   ]
  },
  {
   "cell_type": "code",
   "execution_count": null,
   "metadata": {
    "id": "1kpf91WUuPUK"
   },
   "outputs": [],
   "source": []
  },
  {
   "cell_type": "markdown",
   "metadata": {
    "id": "ABf7NG4xtEKS"
   },
   "source": [
    "### Feature Scaling (optional)\n",
    "\n",
    "\n"
   ]
  },
  {
   "cell_type": "markdown",
   "metadata": {
    "id": "PQwkH7i_ts13"
   },
   "source": [
    "In week 2 lectures you have learned about two common ways to get all attributes to have the same scale: min-max scaling and standardization (Zscore).\n",
    "\n",
    "Sklearn provides two transformer functions for this "
   ]
  },
  {
   "cell_type": "code",
   "execution_count": 62,
   "metadata": {
    "id": "FVur3HpBuRje"
   },
   "outputs": [],
   "source": [
    "#Q16 Research sklearn documentation for the functions MinMaxScaler() and StandardScaler() and try to experiment with it on the housing data set\n",
    "#A16: Normalisation or Standardisation need to be done on the dataset inorder to scale the values. For eg, \n",
    "#     brightness attribute has a min and max values of 300.000000 and 504.4 while frp attribute has a min and max \n",
    "#     values of 0 and 3679.5. To avoid the numerical values frm having such different scales, we perform\n",
    "#     normalisation or standarisation"
   ]
  },
  {
   "cell_type": "code",
   "execution_count": 64,
   "metadata": {},
   "outputs": [
    {
     "name": "stdout",
     "output_type": "stream",
     "text": [
      "MinMaxScaler()\n",
      "[-1.007260e+01  1.534904e+02  5.044000e+02  4.800000e+00  2.000000e+00\n",
      "  2.359000e+03  1.000000e+02  6.300000e+00  4.001000e+02  3.679500e+03\n",
      "  3.000000e+00]\n"
     ]
    }
   ],
   "source": [
    "#Normalisation using MinMaxScaler()\n",
    "from sklearn.preprocessing import MinMaxScaler\n",
    "\n",
    "temp_fire = fire.drop([\"acq_date\",\"daynight\", \"satellite\", \"instrument\"] , axis=1)\n",
    "#temp_fire.head()\n",
    "minmax_scaler = MinMaxScaler() #Initialising the MinMaxScaler as a class\n",
    "print(minmax_scaler.fit(temp_fire)) #Fitting the data \n",
    "print(minmax_scaler.data_max_) #Max value of each attribute"
   ]
  },
  {
   "cell_type": "code",
   "execution_count": 69,
   "metadata": {},
   "outputs": [
    {
     "name": "stdout",
     "output_type": "stream",
     "text": [
      "[[0.94694434 0.70974278 0.06360078 ... 0.22764838 0.00179372 0.        ]\n",
      " [0.94739096 0.71042068 0.0944227  ... 0.22764838 0.00307107 0.        ]\n",
      " [0.91535078 0.47656661 0.05675147 ... 0.23816679 0.00627803 0.        ]\n",
      " ...\n",
      " [0.44260053 0.36581434 0.00831703 ... 0.17580766 0.00149477 0.        ]\n",
      " [0.44241699 0.36684769 0.01761252 ... 0.17505635 0.00154912 0.        ]\n",
      " [0.3639837  0.18776167 0.04452055 ... 0.17956424 0.00625085 0.66666667]]\n"
     ]
    }
   ],
   "source": [
    "#print(minmax_scaler.transform(temp_fire)) #Transform features by scaling each feature to a given range(0,1)\n",
    "fire_norm = minmax_scaler.transform(temp_fire) #Normalised data of 11 numerical attributes\n",
    "print(fire_norm)"
   ]
  },
  {
   "cell_type": "code",
   "execution_count": 70,
   "metadata": {},
   "outputs": [
    {
     "name": "stdout",
     "output_type": "stream",
     "text": [
      "StandardScaler()\n"
     ]
    }
   ],
   "source": [
    "# Standarization using StandardScaler()\n",
    "from sklearn.preprocessing import StandardScaler\n",
    "standard_scaler = StandardScaler() #Initialising the StandardScaler as a class\n",
    "print(standard_scaler.fit(temp_fire)) #Fitting the data"
   ]
  },
  {
   "cell_type": "code",
   "execution_count": 71,
   "metadata": {},
   "outputs": [
    {
     "name": "stdout",
     "output_type": "stream",
     "text": [
      "[-1.91009616e+01  1.38931446e+02  3.28750696e+02  1.62090472e+00\n",
      "  1.21528144e+00  6.00076810e+02  6.75513871e+01  6.30000000e+00\n",
      "  3.01339138e+02  5.11321763e+01  1.94385049e-02]\n"
     ]
    }
   ],
   "source": [
    "print(standard_scaler.mean_) #Mean value of each attribute"
   ]
  },
  {
   "cell_type": "code",
   "execution_count": 74,
   "metadata": {},
   "outputs": [
    {
     "name": "stdout",
     "output_type": "stream",
     "text": [
      "[[ 1.00389302  0.33762684 -0.82930942 ... -0.41536427 -0.4825828\n",
      "  -0.0980141 ]\n",
      " [ 1.00590247  0.34050981 -0.4976003  ... -0.41536427 -0.43165021\n",
      "  -0.0980141 ]\n",
      " [ 0.86174521 -0.65401884 -0.90302256 ... -0.27139544 -0.30377689\n",
      "  -0.0980141 ]\n",
      " ...\n",
      " [-1.26528325 -1.12502328 -1.42427974 ... -1.12492494 -0.49450319\n",
      "  -0.0980141 ]\n",
      " [-1.26610905 -1.12062864 -1.32424049 ... -1.13520843 -0.49233585\n",
      "  -0.0980141 ]\n",
      " [-1.61900119 -1.88224111 -1.03465316 ... -1.0735075  -0.30486056\n",
      "   9.98651662]]\n"
     ]
    }
   ],
   "source": [
    "fire_standard = standard_scaler.transform(temp_fire) #Standardize features by removing the mean and scaling to unit variance\n",
    "print(fire_standard)"
   ]
  },
  {
   "cell_type": "markdown",
   "metadata": {},
   "source": [
    "In order to best eliminate outliers in the data set, we are going to use the standardised dataset for further processing"
   ]
  }
 ],
 "metadata": {
  "colab": {
   "name": "Tutorial 1  Data Exploration and Visualization (Getting to know your data).ipynb",
   "provenance": []
  },
  "kernelspec": {
   "display_name": "Python 3",
   "language": "python",
   "name": "python3"
  },
  "language_info": {
   "codemirror_mode": {
    "name": "ipython",
    "version": 3
   },
   "file_extension": ".py",
   "mimetype": "text/x-python",
   "name": "python",
   "nbconvert_exporter": "python",
   "pygments_lexer": "ipython3",
   "version": "3.6.9"
  }
 },
 "nbformat": 4,
 "nbformat_minor": 1
}
